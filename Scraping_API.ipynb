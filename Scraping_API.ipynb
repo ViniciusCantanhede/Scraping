{
  "nbformat": 4,
  "nbformat_minor": 0,
  "metadata": {
    "colab": {
      "provenance": []
    },
    "kernelspec": {
      "name": "python3",
      "display_name": "Python 3"
    },
    "language_info": {
      "name": "python"
    }
  },
  "cells": [
    {
      "cell_type": "markdown",
      "source": [
        "#RDI - 26/03/2024\n",
        "##abordagem prática dos conceitos visto sobre segurança da internet *et al*."
      ],
      "metadata": {
        "id": "RHc7j39xuzq_"
      }
    },
    {
      "cell_type": "markdown",
      "source": [
        "\n",
        "\n",
        "---\n",
        "##Análise de Dados de Criptomoedas com Python\n",
        "Vamos continuar a analise de dados no campo das Cryptos, porém avançando nos conceitos de segurança.\n",
        "\n",
        "---\n",
        "##Introdução às APIs\n",
        "Antes de mergulharmos no código, é essencial entender o que é uma API. API significa \"Application Programming Interface\" (Interface de Programação de Aplicações). Uma API permite que dois aplicativos se comuniquem entre si. Neste caso, utilizaremos a API do CoinMarketCap para obter dados de criptomoedas.\n",
        "\n",
        "Para acessar a API do CoinMarketCap, você precisará de uma chave de API, que é uma credencial que permite que seu código se autentique com a API. Você pode obter sua própria chave de API registrando-se no site do CoinMarketCap e acessando a seção de desenvolvedores\n",
        "\n",
        "\n",
        "```\n",
        "Não vou cometer o mesmo erros e liberar miha API. Tá engraçadinho né, Gênio !!\n",
        "```\n",
        "Vamos ao site e criem suas chaves\n",
        "\n",
        "\n"
      ],
      "metadata": {
        "id": "AkPTojPUwPYJ"
      }
    },
    {
      "cell_type": "markdown",
      "source": [
        "#Início da Festa!\n",
        "\n",
        "##Importem as bibliotecas.\n",
        "\n",
        "\n",
        "\n",
        "```\n",
        "import requests\n",
        "import pandas as pd\n",
        "import matplotlib.pyplot as plt\n",
        "from IPython.display import display\n",
        "```\n",
        "\n"
      ],
      "metadata": {
        "id": "c8H-asYlw5pm"
      }
    },
    {
      "cell_type": "markdown",
      "source": [
        "## IPython.display . Já conheciam? Ou pensam só no Pandinha?"
      ],
      "metadata": {
        "id": "OXK96GdRzSpm"
      }
    },
    {
      "cell_type": "markdown",
      "source": [
        "O **IPython.display** é um módulo que oferece funções para exibir dados de forma mais interativa e visualmente atrativa em ambientes como Jupyter Notebook ou Google Colab.\n",
        "\n",
        "A função display é usada para mostrar objetos Python de maneira mais elaborada do que simplesmente imprimi-los, tornando a apresentação de dados mais rica e interativa.\n",
        "\n",
        "Para usar a função display, basta chamá-la e passar o objeto que deseja exibir como argumento. Por exemplo, para mostrar um DataFrame do pandas de forma estilizada em um notebook, você pode usar:\n",
        "\n",
        "\n",
        "\n",
        "```\n",
        "from IPython.display import display\n",
        "display(df.head(10).style.set_table_styles([...]))\n",
        "```\n",
        "\n",
        "Aqui, Gênios, um exemplo genérico.\n",
        "Para saber\n",
        "mais paramêtros da função display, peça ajuda:\n",
        "\n",
        "```\n",
        "help(display)\n",
        "```\n",
        "\n",
        "\n",
        "---\n",
        "\n",
        "\n",
        "\n"
      ],
      "metadata": {
        "id": "OVdA9lvlxu_r"
      }
    },
    {
      "cell_type": "markdown",
      "source": [
        "##Definindo a URL da API e o Cabeçalho de Solicitação\n",
        "\n",
        "\n",
        "\n",
        "```\n",
        "url = \"https://pro-api.coinmarketcap.com/v1/cryptocurrency/listings/latest\"\n",
        "\n",
        "headers = {'Accepts': 'application/json',\n",
        "    'X-CMC_PRO_API_KEY': 'sua_chave_de_api_aqui',}\n",
        "```\n",
        "\n",
        "\n"
      ],
      "metadata": {
        "id": "UfCaLVkV0Un8"
      }
    },
    {
      "cell_type": "markdown",
      "source": [
        "## Me lembra aí, Prof. Ficou meio tenso aqui!\n",
        "\n",
        "###Veja os detalhes, turma:\n",
        "\n",
        "**URL da API:** A URL especificada é \"https://pro-api.coinmarketcap.com/v1/cryptocurrency/listings/latest\", que é a URL base para acessar os dados mais recentes sobre listagens de criptomoedas.\n",
        "\n",
        "**Cabeçalhos (Headers):** Os cabeçalhos são informações adicionais que são enviadas junto com a solicitação HTTP. Neste caso, existem dois cabeçalhos especificados:\n",
        "\n",
        "*   Accepts: Este cabeçalho especifica o tipo de conteúdo que o cliente (você, neste caso) está disposto a aceitar da resposta do servidor. Aqui, é definido como \"application/json\", o que significa que o cliente prefere receber os dados no formato JSON.\n",
        "\n",
        "*   X-CMC_PRO_API_KEY: Este é um cabeçalho personalizado usado pelo CoinMarketCap para autenticação. Ele espera que você forneça uma chave de API válida como seu valor. Sem essa chave, a solicitação pode ser recusada pelo servidor.\n",
        "\n",
        "\n",
        "**Chave da API:** O valor 'sua_chave_de_api_aqui' precisa ser substituído pela sua chave de API real fornecida pelo CoinMarketCap quando você se registrar para acessar sua API."
      ],
      "metadata": {
        "id": "EzDwGK1E1Eti"
      }
    },
    {
      "cell_type": "markdown",
      "source": [
        "\n",
        "\n",
        "\n",
        "###Oremos...ops...Continuemos!\n",
        "\n",
        "\n",
        "---\n",
        "\n",
        "##Requisição, conversão para Data Frame e Limpeza básica.\n",
        "\n",
        "1. REQUISIÇÃO\n",
        "\n",
        "\n",
        "\n",
        "```\n",
        "df['price'] = df['quote'].apply(lambda x: x['USD']['price'])\n",
        "df['volume_24h'] = df['quote'].apply(lambda x: x['USD']['volume_24h'])\n",
        "df = df.drop('quote', axis=1)\n",
        "\n",
        "```\n",
        "Quase igual fizemos na aula passada, vejam que utilizando o método get da biblioteca requests, fazemos uma chamada à API e obtemos a resposta. Em seguida, convertemos essa resposta, q**ue vem em formato JSON**, em um objeto Python para manipulação.\n",
        "\n",
        "Mas vai vendo!!!\n"
      ],
      "metadata": {
        "id": "KahimpZDyvkV"
      }
    },
    {
      "cell_type": "markdown",
      "source": [
        "\n",
        "##Requisiação e *JSON*\n",
        "\n",
        "\n",
        "\n",
        "```\n",
        "response = requests.get(url, headers=headers)\n",
        "data = response.json()\n",
        "\n",
        "```\n",
        "* JSON (JavaScript Object Notation) é um formato de texto simples para troca de dados. Ele é amplamente utilizado para enviar dados entre um servidor e um cliente na web e é bastante comum em APIs, como a que você está acessando. A estrutura de um JSON é muito semelhante à estrutura de dados de um objeto em JavaScript.\n",
        "\n",
        "* Por outro lado, em Python, temos uma estrutura de dados chamada de dicionário (dictionary), que é semelhante a um objeto JavaScript. Um dicionário em Python é uma coleção de pares chave-valor, onde cada chave é única e mapeia para um valor.\n",
        "\n",
        "* Quando você usa o método json() em um objeto de resposta da biblioteca requests em Python, ele interpreta o conteúdo da resposta, que está no formato JSON, e o converte em um objeto Python, normalmente um dicionário ou uma lista (quando o JSON é um array). Essa conversão é realizada automaticamente pela biblioteca requests quando você chama response.json().\n",
        "\n",
        "* Uma vez que os dados estão em um objeto Python, você pode manipulá-los facilmente usando as estruturas de controle de Python, como loops, condicionais, funções e assim por diante. Você também pode acessar os dados usando a notação de colchetes ([]) para chaves de dicionário ou índices de lista, o que torna a manipulação dos dados muito conveniente.\n",
        "\n",
        "**Em resumo, a conversão de JSON para um objeto Python facilita muito a manipulação e análise de dados em Python, permitindo que você os utilize em seu código de forma eficiente e sem complicações.**\n",
        "\n",
        "\n"
      ],
      "metadata": {
        "id": "MCRMfRfN28A8"
      }
    },
    {
      "cell_type": "markdown",
      "source": [
        "\n",
        "\n",
        "---\n",
        "##Conversão de Dados para DataFrame\n",
        "\n",
        "\n",
        "```\n",
        "df = pd.DataFrame(data['data'])\n",
        "df = df[['name', 'symbol', 'quote']]\n",
        "```\n",
        "\n",
        "Aqui, convertemos os dados obtidos em um DataFrame do pandas, que é uma estrutura de dados bidimensional semelhante a uma tabela.\n",
        "Selecionamos as colunas que são relevantes para nossa análise.\n",
        "\n",
        "##Extração e Limpeza de Dados\n",
        "\n",
        "\n",
        "\n",
        "```\n",
        "df['price'] = df['quote'].apply(lambda x: x['USD']['price'])\n",
        "df['volume_24h'] = df['quote'].apply(lambda x: x['USD']['volume_24h'])\n",
        "df = df.drop('quote', axis=1)\n",
        "```\n",
        "\n",
        "\n",
        "\n",
        "Neste passo, extraímos informações específicas de preço e volume de negociação das últimas 24 horas.\n",
        "\n",
        "###Alerta do Prof.: removemos a coluna 'quote' não é mais necessária.\n"
      ],
      "metadata": {
        "id": "Xy6sb3yf3W_u"
      }
    },
    {
      "cell_type": "markdown",
      "source": [
        "##Agora vem a cerejinha\n",
        "\n",
        "\n",
        "\n",
        "```\n",
        "def highlight_columns(s):\n",
        "    return ['background-color: #a2d2ff' if s.name in ['price', 'volume_24h'] else '' for v in s]\n",
        "\n",
        "df_styled = df.head(10).style.apply(highlight_columns) \\\n",
        "    .set_table_styles([{'selector': 'th', 'props': [('background', '#0077b6'), ('color', 'white')]},]) \\\n",
        "    .set_properties(**{'text-align': 'center', 'font-size': '12pt'}) \\\n",
        "    .set_caption(\"Top 10 Criptomoedas\")\n",
        "\n",
        "display(df_styled)\n",
        "\n",
        "```\n",
        " Aplicamos estilos diferentes para as células, destacando as colunas 'price' e 'volume_24h'. Definimos cores de fundo e de texto, alinhamento, tamanho de fonte e um cabeçalho para a tabela.\n",
        "Se precisar de ajuda, chama o Help, Gênio!\n",
        "\n",
        "\n",
        "\n",
        "---\n",
        "\n"
      ],
      "metadata": {
        "id": "j2uzkiBp38ro"
      }
    },
    {
      "cell_type": "markdown",
      "source": [
        "Para fechar com chve de ouro!!! Um gráfico bem bonitinho. Lembre-se. Aqui é o final de tudo, onde você apresenta o resultado de toda essa trabalheira. Divirtam-se e experimente,mm utras formas que sejam válidas."
      ],
      "metadata": {
        "id": "S-fDpZkl4SOp"
      }
    },
    {
      "cell_type": "markdown",
      "source": [
        "#*The end*"
      ],
      "metadata": {
        "id": "uA8f5sHb4mCD"
      }
    },
    {
      "cell_type": "code",
      "source": [
        "import requests\n",
        "import pandas as pd\n",
        "import matplotlib.pyplot as plt\n",
        "from IPython.display import display"
      ],
      "metadata": {
        "id": "FLWqQ-VMsdu4"
      },
      "execution_count": 2,
      "outputs": []
    },
    {
      "cell_type": "code",
      "source": [
        "url = \"https://pro-api.coinmarketcap.com/v1/cryptocurrency/listings/latest\"\n",
        "\n",
        "headers = {'Accepts': 'application/json',\n",
        "    'X-CMC_PRO_API_KEY': '129fcc38-2b79-44f6-8373-bbe8f235810e',}"
      ],
      "metadata": {
        "id": "hk6u5ABZvNYY"
      },
      "execution_count": 3,
      "outputs": []
    },
    {
      "cell_type": "code",
      "source": [
        "response = requests.get(url, headers=headers)\n",
        "data = response.json()"
      ],
      "metadata": {
        "id": "J26lKEoMvjp-"
      },
      "execution_count": 4,
      "outputs": []
    },
    {
      "cell_type": "code",
      "source": [
        "df = pd.DataFrame(data['data'])\n",
        "df = df[['name', 'symbol', 'quote']]"
      ],
      "metadata": {
        "id": "34g7Y0krv19O"
      },
      "execution_count": 5,
      "outputs": []
    },
    {
      "cell_type": "code",
      "source": [
        "df['price'] = df['quote'].apply(lambda x: x['USD']['price'])\n",
        "df['volume_24h'] = df['quote'].apply(lambda x: x['USD']['volume_24h'])\n",
        "df = df.drop('quote', axis=1)"
      ],
      "metadata": {
        "id": "3Xe4HDNCv-id"
      },
      "execution_count": 6,
      "outputs": []
    },
    {
      "cell_type": "code",
      "source": [
        "def highlight_columns(s):\n",
        "    return ['background-color: #a2d2ff' if s.name in ['price', 'volume_24h'] else '' for v in s]\n",
        "\n",
        "df_styled = df.head(15).style.apply(highlight_columns) \\\n",
        "    .set_table_styles([{'selector': 'th', 'props': [('background', '#0077b6'), ('color', 'white')]},]) \\\n",
        "    .set_properties(**{'text-align': 'center', 'font-size': '12pt'}) \\\n",
        "    .set_caption(\"Top 15 Criptomoedas\")\n",
        "\n",
        "display(df_styled)"
      ],
      "metadata": {
        "colab": {
          "base_uri": "https://localhost:8080/",
          "height": 604
        },
        "id": "2bEiy0qVvm_O",
        "outputId": "b98c7ffe-1923-4ce5-fd26-1eea02e7ef9f"
      },
      "execution_count": 7,
      "outputs": [
        {
          "output_type": "display_data",
          "data": {
            "text/plain": [
              "<pandas.io.formats.style.Styler at 0x7fdf78159c90>"
            ],
            "text/html": [
              "<style type=\"text/css\">\n",
              "#T_71b59 th {\n",
              "  background: #0077b6;\n",
              "  color: white;\n",
              "}\n",
              "#T_71b59_row0_col0, #T_71b59_row0_col1, #T_71b59_row1_col0, #T_71b59_row1_col1, #T_71b59_row2_col0, #T_71b59_row2_col1, #T_71b59_row3_col0, #T_71b59_row3_col1, #T_71b59_row4_col0, #T_71b59_row4_col1, #T_71b59_row5_col0, #T_71b59_row5_col1, #T_71b59_row6_col0, #T_71b59_row6_col1, #T_71b59_row7_col0, #T_71b59_row7_col1, #T_71b59_row8_col0, #T_71b59_row8_col1, #T_71b59_row9_col0, #T_71b59_row9_col1, #T_71b59_row10_col0, #T_71b59_row10_col1, #T_71b59_row11_col0, #T_71b59_row11_col1, #T_71b59_row12_col0, #T_71b59_row12_col1, #T_71b59_row13_col0, #T_71b59_row13_col1, #T_71b59_row14_col0, #T_71b59_row14_col1 {\n",
              "  text-align: center;\n",
              "  font-size: 12pt;\n",
              "}\n",
              "#T_71b59_row0_col2, #T_71b59_row0_col3, #T_71b59_row1_col2, #T_71b59_row1_col3, #T_71b59_row2_col2, #T_71b59_row2_col3, #T_71b59_row3_col2, #T_71b59_row3_col3, #T_71b59_row4_col2, #T_71b59_row4_col3, #T_71b59_row5_col2, #T_71b59_row5_col3, #T_71b59_row6_col2, #T_71b59_row6_col3, #T_71b59_row7_col2, #T_71b59_row7_col3, #T_71b59_row8_col2, #T_71b59_row8_col3, #T_71b59_row9_col2, #T_71b59_row9_col3, #T_71b59_row10_col2, #T_71b59_row10_col3, #T_71b59_row11_col2, #T_71b59_row11_col3, #T_71b59_row12_col2, #T_71b59_row12_col3, #T_71b59_row13_col2, #T_71b59_row13_col3, #T_71b59_row14_col2, #T_71b59_row14_col3 {\n",
              "  background-color: #a2d2ff;\n",
              "  text-align: center;\n",
              "  font-size: 12pt;\n",
              "}\n",
              "</style>\n",
              "<table id=\"T_71b59\" class=\"dataframe\">\n",
              "  <caption>Top 15 Criptomoedas</caption>\n",
              "  <thead>\n",
              "    <tr>\n",
              "      <th class=\"blank level0\" >&nbsp;</th>\n",
              "      <th id=\"T_71b59_level0_col0\" class=\"col_heading level0 col0\" >name</th>\n",
              "      <th id=\"T_71b59_level0_col1\" class=\"col_heading level0 col1\" >symbol</th>\n",
              "      <th id=\"T_71b59_level0_col2\" class=\"col_heading level0 col2\" >price</th>\n",
              "      <th id=\"T_71b59_level0_col3\" class=\"col_heading level0 col3\" >volume_24h</th>\n",
              "    </tr>\n",
              "  </thead>\n",
              "  <tbody>\n",
              "    <tr>\n",
              "      <th id=\"T_71b59_level0_row0\" class=\"row_heading level0 row0\" >0</th>\n",
              "      <td id=\"T_71b59_row0_col0\" class=\"data row0 col0\" >Bitcoin</td>\n",
              "      <td id=\"T_71b59_row0_col1\" class=\"data row0 col1\" >BTC</td>\n",
              "      <td id=\"T_71b59_row0_col2\" class=\"data row0 col2\" >69648.016826</td>\n",
              "      <td id=\"T_71b59_row0_col3\" class=\"data row0 col3\" >40115184380.350967</td>\n",
              "    </tr>\n",
              "    <tr>\n",
              "      <th id=\"T_71b59_level0_row1\" class=\"row_heading level0 row1\" >1</th>\n",
              "      <td id=\"T_71b59_row1_col0\" class=\"data row1 col0\" >Ethereum</td>\n",
              "      <td id=\"T_71b59_row1_col1\" class=\"data row1 col1\" >ETH</td>\n",
              "      <td id=\"T_71b59_row1_col2\" class=\"data row1 col2\" >3568.999421</td>\n",
              "      <td id=\"T_71b59_row1_col3\" class=\"data row1 col3\" >20223690318.167217</td>\n",
              "    </tr>\n",
              "    <tr>\n",
              "      <th id=\"T_71b59_level0_row2\" class=\"row_heading level0 row2\" >2</th>\n",
              "      <td id=\"T_71b59_row2_col0\" class=\"data row2 col0\" >Tether USDt</td>\n",
              "      <td id=\"T_71b59_row2_col1\" class=\"data row2 col1\" >USDT</td>\n",
              "      <td id=\"T_71b59_row2_col2\" class=\"data row2 col2\" >1.000420</td>\n",
              "      <td id=\"T_71b59_row2_col3\" class=\"data row2 col3\" >82978645631.492111</td>\n",
              "    </tr>\n",
              "    <tr>\n",
              "      <th id=\"T_71b59_level0_row3\" class=\"row_heading level0 row3\" >3</th>\n",
              "      <td id=\"T_71b59_row3_col0\" class=\"data row3 col0\" >BNB</td>\n",
              "      <td id=\"T_71b59_row3_col1\" class=\"data row3 col1\" >BNB</td>\n",
              "      <td id=\"T_71b59_row3_col2\" class=\"data row3 col2\" >575.607935</td>\n",
              "      <td id=\"T_71b59_row3_col3\" class=\"data row3 col3\" >2129694048.754682</td>\n",
              "    </tr>\n",
              "    <tr>\n",
              "      <th id=\"T_71b59_level0_row4\" class=\"row_heading level0 row4\" >4</th>\n",
              "      <td id=\"T_71b59_row4_col0\" class=\"data row4 col0\" >Solana</td>\n",
              "      <td id=\"T_71b59_row4_col1\" class=\"data row4 col1\" >SOL</td>\n",
              "      <td id=\"T_71b59_row4_col2\" class=\"data row4 col2\" >187.451591</td>\n",
              "      <td id=\"T_71b59_row4_col3\" class=\"data row4 col3\" >3633016825.305590</td>\n",
              "    </tr>\n",
              "    <tr>\n",
              "      <th id=\"T_71b59_level0_row5\" class=\"row_heading level0 row5\" >5</th>\n",
              "      <td id=\"T_71b59_row5_col0\" class=\"data row5 col0\" >XRP</td>\n",
              "      <td id=\"T_71b59_row5_col1\" class=\"data row5 col1\" >XRP</td>\n",
              "      <td id=\"T_71b59_row5_col2\" class=\"data row5 col2\" >0.630485</td>\n",
              "      <td id=\"T_71b59_row5_col3\" class=\"data row5 col3\" >2173753325.364369</td>\n",
              "    </tr>\n",
              "    <tr>\n",
              "      <th id=\"T_71b59_level0_row6\" class=\"row_heading level0 row6\" >6</th>\n",
              "      <td id=\"T_71b59_row6_col0\" class=\"data row6 col0\" >USDC</td>\n",
              "      <td id=\"T_71b59_row6_col1\" class=\"data row6 col1\" >USDC</td>\n",
              "      <td id=\"T_71b59_row6_col2\" class=\"data row6 col2\" >1.000195</td>\n",
              "      <td id=\"T_71b59_row6_col3\" class=\"data row6 col3\" >8485475629.221347</td>\n",
              "    </tr>\n",
              "    <tr>\n",
              "      <th id=\"T_71b59_level0_row7\" class=\"row_heading level0 row7\" >7</th>\n",
              "      <td id=\"T_71b59_row7_col0\" class=\"data row7 col0\" >Dogecoin</td>\n",
              "      <td id=\"T_71b59_row7_col1\" class=\"data row7 col1\" >DOGE</td>\n",
              "      <td id=\"T_71b59_row7_col2\" class=\"data row7 col2\" >0.176304</td>\n",
              "      <td id=\"T_71b59_row7_col3\" class=\"data row7 col3\" >2922574193.128036</td>\n",
              "    </tr>\n",
              "    <tr>\n",
              "      <th id=\"T_71b59_level0_row8\" class=\"row_heading level0 row8\" >8</th>\n",
              "      <td id=\"T_71b59_row8_col0\" class=\"data row8 col0\" >Cardano</td>\n",
              "      <td id=\"T_71b59_row8_col1\" class=\"data row8 col1\" >ADA</td>\n",
              "      <td id=\"T_71b59_row8_col2\" class=\"data row8 col2\" >0.655879</td>\n",
              "      <td id=\"T_71b59_row8_col3\" class=\"data row8 col3\" >642819657.205052</td>\n",
              "    </tr>\n",
              "    <tr>\n",
              "      <th id=\"T_71b59_level0_row9\" class=\"row_heading level0 row9\" >9</th>\n",
              "      <td id=\"T_71b59_row9_col0\" class=\"data row9 col0\" >Avalanche</td>\n",
              "      <td id=\"T_71b59_row9_col1\" class=\"data row9 col1\" >AVAX</td>\n",
              "      <td id=\"T_71b59_row9_col2\" class=\"data row9 col2\" >55.714974</td>\n",
              "      <td id=\"T_71b59_row9_col3\" class=\"data row9 col3\" >885888101.446308</td>\n",
              "    </tr>\n",
              "    <tr>\n",
              "      <th id=\"T_71b59_level0_row10\" class=\"row_heading level0 row10\" >10</th>\n",
              "      <td id=\"T_71b59_row10_col0\" class=\"data row10 col0\" >Shiba Inu</td>\n",
              "      <td id=\"T_71b59_row10_col1\" class=\"data row10 col1\" >SHIB</td>\n",
              "      <td id=\"T_71b59_row10_col2\" class=\"data row10 col2\" >0.000030</td>\n",
              "      <td id=\"T_71b59_row10_col3\" class=\"data row10 col3\" >2015893930.660672</td>\n",
              "    </tr>\n",
              "    <tr>\n",
              "      <th id=\"T_71b59_level0_row11\" class=\"row_heading level0 row11\" >11</th>\n",
              "      <td id=\"T_71b59_row11_col0\" class=\"data row11 col0\" >Toncoin</td>\n",
              "      <td id=\"T_71b59_row11_col1\" class=\"data row11 col1\" >TON</td>\n",
              "      <td id=\"T_71b59_row11_col2\" class=\"data row11 col2\" >5.060002</td>\n",
              "      <td id=\"T_71b59_row11_col3\" class=\"data row11 col3\" >294854984.638601</td>\n",
              "    </tr>\n",
              "    <tr>\n",
              "      <th id=\"T_71b59_level0_row12\" class=\"row_heading level0 row12\" >12</th>\n",
              "      <td id=\"T_71b59_row12_col0\" class=\"data row12 col0\" >Polkadot</td>\n",
              "      <td id=\"T_71b59_row12_col1\" class=\"data row12 col1\" >DOT</td>\n",
              "      <td id=\"T_71b59_row12_col2\" class=\"data row12 col2\" >9.630676</td>\n",
              "      <td id=\"T_71b59_row12_col3\" class=\"data row12 col3\" >342432439.201503</td>\n",
              "    </tr>\n",
              "    <tr>\n",
              "      <th id=\"T_71b59_level0_row13\" class=\"row_heading level0 row13\" >13</th>\n",
              "      <td id=\"T_71b59_row13_col0\" class=\"data row13 col0\" >Chainlink</td>\n",
              "      <td id=\"T_71b59_row13_col1\" class=\"data row13 col1\" >LINK</td>\n",
              "      <td id=\"T_71b59_row13_col2\" class=\"data row13 col2\" >19.889825</td>\n",
              "      <td id=\"T_71b59_row13_col3\" class=\"data row13 col3\" >579348218.761661</td>\n",
              "    </tr>\n",
              "    <tr>\n",
              "      <th id=\"T_71b59_level0_row14\" class=\"row_heading level0 row14\" >14</th>\n",
              "      <td id=\"T_71b59_row14_col0\" class=\"data row14 col0\" >TRON</td>\n",
              "      <td id=\"T_71b59_row14_col1\" class=\"data row14 col1\" >TRX</td>\n",
              "      <td id=\"T_71b59_row14_col2\" class=\"data row14 col2\" >0.120751</td>\n",
              "      <td id=\"T_71b59_row14_col3\" class=\"data row14 col3\" >373428897.743079</td>\n",
              "    </tr>\n",
              "  </tbody>\n",
              "</table>\n"
            ]
          },
          "metadata": {}
        }
      ]
    },
    {
      "cell_type": "code",
      "source": [
        "names = df['name'].head(10)[1:]\n",
        "prices = df['price'].head(10)[1:]\n",
        "\n",
        "# Criar o gráfico de barras\n",
        "plt.figure(figsize=(10, 6))\n",
        "plt.bar(names, prices, color='skyblue')\n",
        "\n",
        "# Personalizar o gráfico\n",
        "plt.title('Top 10 Criptomoedas por Preço (excluindo o Bitcoin)')\n",
        "plt.xlabel('Criptomoeda')\n",
        "plt.ylabel('Preço (USD)')\n",
        "plt.xticks(rotation=45, ha='right')  # Rotacionar os rótulos no eixo x para melhor visualização\n",
        "\n",
        "# Mostrar o gráfico\n",
        "plt.tight_layout()\n",
        "plt.show()"
      ],
      "metadata": {
        "colab": {
          "base_uri": "https://localhost:8080/",
          "height": 607
        },
        "id": "6l-Ckr04xY5T",
        "outputId": "cea1a453-e6b3-4e7c-ba94-128fbb336f6c"
      },
      "execution_count": 21,
      "outputs": [
        {
          "output_type": "display_data",
          "data": {
            "text/plain": [
              "<Figure size 1000x600 with 1 Axes>"
            ],
            "image/png": "[encoded data removed]"
          },
          "metadata": {}
        }
      ]
    }
  ]
}